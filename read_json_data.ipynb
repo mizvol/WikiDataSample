{
 "cells": [
  {
   "cell_type": "code",
   "execution_count": 1,
   "metadata": {},
   "outputs": [],
   "source": [
    "import pickle\n",
    "from matplotlib import pyplot as plt"
   ]
  },
  {
   "cell_type": "markdown",
   "metadata": {},
   "source": [
    "### Read data.\n",
    "\n",
    "Format `dict(page_id: dict(timestamp: visits_per_hour))`\n",
    "\n",
    "The timestamps are encoded as list indexes. Index `0` correspond to start time `2018-07-31 22:00:00`. The last index of the list corresponds to final timestamp `2018-08-31 21:00:00`. Total number of hours is 743. \n",
    "\n",
    "Keys of `dict(timestamp: visits_per_hour)` correspond to list indexes. For example, if a page with `page_id` was visited `13` times at timestamp `2018-07-31 22:00:00`, this will correspond to the following record in the dictionary `{page_id: {0: 13}}`."
   ]
  },
  {
   "cell_type": "code",
   "execution_count": 2,
   "metadata": {},
   "outputs": [],
   "source": [
    "pickle_in = open(\"./data/activations_dict_json_graph.pickle\",\"rb\")"
   ]
  },
  {
   "cell_type": "code",
   "execution_count": 3,
   "metadata": {},
   "outputs": [],
   "source": [
    "activations_dict = pickle.load(pickle_in)"
   ]
  },
  {
   "cell_type": "code",
   "execution_count": 4,
   "metadata": {},
   "outputs": [],
   "source": [
    "hours = 743 # total number of hours"
   ]
  },
  {
   "cell_type": "code",
   "execution_count": 5,
   "metadata": {},
   "outputs": [],
   "source": [
    "def unpack_dict(d, length):\n",
    "    '''\n",
    "    Unpacks dictionary `d` {list_index: value} into a list.\n",
    "    `length` is total number of elements in the resulting list.\n",
    "    \n",
    "    Index corresponds to `list_index` and value at that index corresponds to `value`.\n",
    "    I.e. list[list_index] = value\n",
    "    Indexes missing in dictionary correspond to `0` values.\n",
    "    '''\n",
    "    l = [0] * length\n",
    "    keys = list(d.keys())\n",
    "    keys.sort()\n",
    "    for key in keys:\n",
    "        l[key] = d[key]\n",
    "    return l"
   ]
  },
  {
   "cell_type": "code",
   "execution_count": 6,
   "metadata": {},
   "outputs": [],
   "source": [
    "#unpack time-series into list\n",
    "activations_dict_unpacked = {}\n",
    "for k,v in activations_dict.items():\n",
    "    activations_dict_unpacked[k] = unpack_dict(v, hours + 1)"
   ]
  },
  {
   "cell_type": "code",
   "execution_count": 7,
   "metadata": {},
   "outputs": [
    {
     "data": {
      "text/plain": [
       "[<matplotlib.lines.Line2D at 0x7f6c85f0a630>]"
      ]
     },
     "execution_count": 7,
     "metadata": {},
     "output_type": "execute_result"
    },
    {
     "data": {
      "image/png": "[encoded data removed]",
      "text/plain": [
       "<Figure size 432x288 with 1 Axes>"
      ]
     },
     "metadata": {
      "needs_background": "light"
     },
     "output_type": "display_data"
    }
   ],
   "source": [
    "plt.plot(activations_dict_unpacked[734])"
   ]
  },
  {
   "cell_type": "code",
   "execution_count": null,
   "metadata": {},
   "outputs": [],
   "source": []
  }
 ],
 "metadata": {
  "kernelspec": {
   "display_name": "Python 3",
   "language": "python",
   "name": "python3"
  },
  "language_info": {
   "codemirror_mode": {
    "name": "ipython",
    "version": 3
   },
   "file_extension": ".py",
   "mimetype": "text/x-python",
   "name": "python",
   "nbconvert_exporter": "python",
   "pygments_lexer": "ipython3",
   "version": "3.6.8"
  }
 },
 "nbformat": 4,
 "nbformat_minor": 2
}
